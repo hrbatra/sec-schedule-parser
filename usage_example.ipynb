{
 "cells": [
  {
   "cell_type": "markdown",
   "metadata": {},
   "source": [
    "# EDGAR Schedule of Investments Extractor - Usage Example\n",
    "\n",
    "This notebook demonstrates how to use the EDGAR Schedule of Investments Extractor."
   ]
  },
  {
   "cell_type": "code",
   "execution_count": null,
   "metadata": {},
   "outputs": [],
   "source": [
    "!pip install edgartools==3.1.2"
   ]
  },
  {
   "cell_type": "code",
   "execution_count": null,
   "metadata": {},
   "outputs": [],
   "source": [
    "from edgar_extractor import ScheduleOfInvestmentsExtractor\n",
    "\n",
    "# Set your email address\n",
    "USER_EMAIL = \"your.email@domain.com\""
   ]
  },
  {
   "cell_type": "markdown",
   "metadata": {},
   "source": [
    "## Basic Usage\n",
    "\n",
    "Download latest filings for a few BDCs:"
   ]
  },
  {
   "cell_type": "code",
   "execution_count": null,
   "metadata": {},
   "outputs": [],
   "source": [
    "# Create extractor instance\n",
    "extractor = ScheduleOfInvestmentsExtractor(USER_EMAIL)\n",
    "\n",
    "# Define which companies and filings to process\n",
    "schema = {\n",
    "    \"GSBD\": {\"10-Q\": 4, \"10-K\": 1},  # Goldman Sachs BDC\n",
    "    \"OBDC\": {\"10-Q\": 4, \"10-K\": 1}   # Blue Owl BDC\n",
    "}\n",
    "\n",
    "# Process companies\n",
    "extractor.process_companies(schema)"
   ]
  },
  {
   "cell_type": "markdown",
   "metadata": {},
   "source": [
    "## Custom Output Directory\n",
    "\n",
    "You can specify a custom output directory:"
   ]
  },
  {
   "cell_type": "code",
   "execution_count": null,
   "metadata": {},
   "outputs": [],
   "source": [
    "# Process with custom output directory\n",
    "extractor.process_companies(schema, output_dir=\"my_custom_output\")"
   ]
  },
  {
   "cell_type": "markdown",
   "metadata": {},
   "source": [
    "## Single Company Example\n",
    "\n",
    "Download just the latest 10-K for one company:"
   ]
  },
  {
   "cell_type": "code",
   "execution_count": null,
   "metadata": {},
   "outputs": [],
   "source": [
    "schema_single = {\n",
    "    \"GSBD\": {\"10-K\": 1}  # Just the latest 10-K for Goldman Sachs BDC\n",
    "}\n",
    "\n",
    "extractor.process_companies(schema_single)"
   ]
  }
 ],
 "metadata": {
  "kernelspec": {
   "display_name": "Python 3",
   "language": "python",
   "name": "python3"
  },
  "language_info": {
   "name": "python",
   "version": "3.12.3"
  }
 },
 "nbformat": 4,
 "nbformat_minor": 4
}
